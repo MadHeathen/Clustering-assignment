{
 "cells": [
  {
   "cell_type": "code",
   "execution_count": 15,
   "metadata": {
    "_cell_guid": "b1076dfc-b9ad-4769-8c92-a6c4dae69d19",
    "_uuid": "8f2839f25d086af736a60e9eeb907d3b93b6e0e5",
    "execution": {
     "iopub.execute_input": "2022-04-20T16:25:21.968273Z",
     "iopub.status.busy": "2022-04-20T16:25:21.967964Z",
     "iopub.status.idle": "2022-04-20T16:25:21.972695Z",
     "shell.execute_reply": "2022-04-20T16:25:21.971735Z",
     "shell.execute_reply.started": "2022-04-20T16:25:21.968223Z"
    }
   },
   "outputs": [],
   "source": [
    "import numpy as np \n",
    "import pandas as pd \n",
    "from sklearn.preprocessing import LabelEncoder"
   ]
  },
  {
   "cell_type": "code",
   "execution_count": 16,
   "metadata": {
    "execution": {
     "iopub.execute_input": "2022-04-20T16:25:26.065219Z",
     "iopub.status.busy": "2022-04-20T16:25:26.064710Z",
     "iopub.status.idle": "2022-04-20T16:25:27.053491Z",
     "shell.execute_reply": "2022-04-20T16:25:27.052555Z",
     "shell.execute_reply.started": "2022-04-20T16:25:26.065156Z"
    }
   },
   "outputs": [
    {
     "data": {
      "text/html": [
       "<div>\n",
       "<style scoped>\n",
       "    .dataframe tbody tr th:only-of-type {\n",
       "        vertical-align: middle;\n",
       "    }\n",
       "\n",
       "    .dataframe tbody tr th {\n",
       "        vertical-align: top;\n",
       "    }\n",
       "\n",
       "    .dataframe thead th {\n",
       "        text-align: right;\n",
       "    }\n",
       "</style>\n",
       "<table border=\"1\" class=\"dataframe\">\n",
       "  <thead>\n",
       "    <tr style=\"text-align: right;\">\n",
       "      <th></th>\n",
       "      <th>race</th>\n",
       "      <th>gender</th>\n",
       "      <th>age</th>\n",
       "      <th>weight</th>\n",
       "      <th>admission_type_id</th>\n",
       "      <th>discharge_disposition_id</th>\n",
       "      <th>admission_source_id</th>\n",
       "      <th>time_in_hospital</th>\n",
       "      <th>payer_code</th>\n",
       "      <th>medical_specialty</th>\n",
       "      <th>...</th>\n",
       "      <th>examide</th>\n",
       "      <th>citoglipton</th>\n",
       "      <th>insulin</th>\n",
       "      <th>glyburide-metformin</th>\n",
       "      <th>glipizide-metformin</th>\n",
       "      <th>glimepiride-pioglitazone</th>\n",
       "      <th>metformin-rosiglitazone</th>\n",
       "      <th>metformin-pioglitazone</th>\n",
       "      <th>change</th>\n",
       "      <th>diabetesMed</th>\n",
       "    </tr>\n",
       "    <tr>\n",
       "      <th>index</th>\n",
       "      <th></th>\n",
       "      <th></th>\n",
       "      <th></th>\n",
       "      <th></th>\n",
       "      <th></th>\n",
       "      <th></th>\n",
       "      <th></th>\n",
       "      <th></th>\n",
       "      <th></th>\n",
       "      <th></th>\n",
       "      <th></th>\n",
       "      <th></th>\n",
       "      <th></th>\n",
       "      <th></th>\n",
       "      <th></th>\n",
       "      <th></th>\n",
       "      <th></th>\n",
       "      <th></th>\n",
       "      <th></th>\n",
       "      <th></th>\n",
       "      <th></th>\n",
       "    </tr>\n",
       "  </thead>\n",
       "  <tbody>\n",
       "    <tr>\n",
       "      <th>0</th>\n",
       "      <td>Caucasian</td>\n",
       "      <td>Female</td>\n",
       "      <td>[80-90)</td>\n",
       "      <td>?</td>\n",
       "      <td>2</td>\n",
       "      <td>3</td>\n",
       "      <td>7</td>\n",
       "      <td>6</td>\n",
       "      <td>MC</td>\n",
       "      <td>Emergency/Trauma</td>\n",
       "      <td>...</td>\n",
       "      <td>No</td>\n",
       "      <td>No</td>\n",
       "      <td>No</td>\n",
       "      <td>No</td>\n",
       "      <td>No</td>\n",
       "      <td>No</td>\n",
       "      <td>No</td>\n",
       "      <td>No</td>\n",
       "      <td>No</td>\n",
       "      <td>No</td>\n",
       "    </tr>\n",
       "    <tr>\n",
       "      <th>1</th>\n",
       "      <td>Caucasian</td>\n",
       "      <td>Female</td>\n",
       "      <td>[40-50)</td>\n",
       "      <td>?</td>\n",
       "      <td>1</td>\n",
       "      <td>1</td>\n",
       "      <td>7</td>\n",
       "      <td>2</td>\n",
       "      <td>CP</td>\n",
       "      <td>?</td>\n",
       "      <td>...</td>\n",
       "      <td>No</td>\n",
       "      <td>No</td>\n",
       "      <td>Down</td>\n",
       "      <td>No</td>\n",
       "      <td>No</td>\n",
       "      <td>No</td>\n",
       "      <td>No</td>\n",
       "      <td>No</td>\n",
       "      <td>Ch</td>\n",
       "      <td>Yes</td>\n",
       "    </tr>\n",
       "    <tr>\n",
       "      <th>2</th>\n",
       "      <td>Caucasian</td>\n",
       "      <td>Male</td>\n",
       "      <td>[50-60)</td>\n",
       "      <td>?</td>\n",
       "      <td>3</td>\n",
       "      <td>1</td>\n",
       "      <td>1</td>\n",
       "      <td>1</td>\n",
       "      <td>CP</td>\n",
       "      <td>?</td>\n",
       "      <td>...</td>\n",
       "      <td>No</td>\n",
       "      <td>No</td>\n",
       "      <td>No</td>\n",
       "      <td>No</td>\n",
       "      <td>No</td>\n",
       "      <td>No</td>\n",
       "      <td>No</td>\n",
       "      <td>No</td>\n",
       "      <td>No</td>\n",
       "      <td>Yes</td>\n",
       "    </tr>\n",
       "    <tr>\n",
       "      <th>3</th>\n",
       "      <td>Caucasian</td>\n",
       "      <td>Female</td>\n",
       "      <td>[50-60)</td>\n",
       "      <td>?</td>\n",
       "      <td>1</td>\n",
       "      <td>1</td>\n",
       "      <td>7</td>\n",
       "      <td>3</td>\n",
       "      <td>HM</td>\n",
       "      <td>Family/GeneralPractice</td>\n",
       "      <td>...</td>\n",
       "      <td>No</td>\n",
       "      <td>No</td>\n",
       "      <td>No</td>\n",
       "      <td>No</td>\n",
       "      <td>No</td>\n",
       "      <td>No</td>\n",
       "      <td>No</td>\n",
       "      <td>No</td>\n",
       "      <td>Ch</td>\n",
       "      <td>Yes</td>\n",
       "    </tr>\n",
       "    <tr>\n",
       "      <th>4</th>\n",
       "      <td>Caucasian</td>\n",
       "      <td>Male</td>\n",
       "      <td>[80-90)</td>\n",
       "      <td>?</td>\n",
       "      <td>2</td>\n",
       "      <td>3</td>\n",
       "      <td>7</td>\n",
       "      <td>5</td>\n",
       "      <td>MC</td>\n",
       "      <td>Emergency/Trauma</td>\n",
       "      <td>...</td>\n",
       "      <td>No</td>\n",
       "      <td>No</td>\n",
       "      <td>Down</td>\n",
       "      <td>No</td>\n",
       "      <td>No</td>\n",
       "      <td>No</td>\n",
       "      <td>No</td>\n",
       "      <td>No</td>\n",
       "      <td>Ch</td>\n",
       "      <td>Yes</td>\n",
       "    </tr>\n",
       "  </tbody>\n",
       "</table>\n",
       "<p>5 rows × 47 columns</p>\n",
       "</div>"
      ],
      "text/plain": [
       "            race  gender      age weight  admission_type_id  \\\n",
       "index                                                         \n",
       "0      Caucasian  Female  [80-90)      ?                  2   \n",
       "1      Caucasian  Female  [40-50)      ?                  1   \n",
       "2      Caucasian    Male  [50-60)      ?                  3   \n",
       "3      Caucasian  Female  [50-60)      ?                  1   \n",
       "4      Caucasian    Male  [80-90)      ?                  2   \n",
       "\n",
       "       discharge_disposition_id  admission_source_id  time_in_hospital  \\\n",
       "index                                                                    \n",
       "0                             3                    7                 6   \n",
       "1                             1                    7                 2   \n",
       "2                             1                    1                 1   \n",
       "3                             1                    7                 3   \n",
       "4                             3                    7                 5   \n",
       "\n",
       "      payer_code       medical_specialty  ...  examide  citoglipton  insulin  \\\n",
       "index                                     ...                                  \n",
       "0             MC        Emergency/Trauma  ...       No           No       No   \n",
       "1             CP                       ?  ...       No           No     Down   \n",
       "2             CP                       ?  ...       No           No       No   \n",
       "3             HM  Family/GeneralPractice  ...       No           No       No   \n",
       "4             MC        Emergency/Trauma  ...       No           No     Down   \n",
       "\n",
       "       glyburide-metformin  glipizide-metformin  glimepiride-pioglitazone  \\\n",
       "index                                                                       \n",
       "0                       No                   No                        No   \n",
       "1                       No                   No                        No   \n",
       "2                       No                   No                        No   \n",
       "3                       No                   No                        No   \n",
       "4                       No                   No                        No   \n",
       "\n",
       "      metformin-rosiglitazone metformin-pioglitazone change  diabetesMed  \n",
       "index                                                                     \n",
       "0                          No                     No     No           No  \n",
       "1                          No                     No     Ch          Yes  \n",
       "2                          No                     No     No          Yes  \n",
       "3                          No                     No     Ch          Yes  \n",
       "4                          No                     No     Ch          Yes  \n",
       "\n",
       "[5 rows x 47 columns]"
      ]
     },
     "execution_count": 16,
     "metadata": {},
     "output_type": "execute_result"
    }
   ],
   "source": [
    "data = pd.read_csv(\"input/TRAIN.csv\")\n",
    "test = pd.read_csv(\"input/TEST.csv\", index_col=47)\n",
    "\n",
    "test.head()"
   ]
  },
  {
   "cell_type": "code",
   "execution_count": 17,
   "metadata": {
    "execution": {
     "iopub.execute_input": "2022-04-20T16:29:52.934958Z",
     "iopub.status.busy": "2022-04-20T16:29:52.934669Z",
     "iopub.status.idle": "2022-04-20T16:29:52.943040Z",
     "shell.execute_reply": "2022-04-20T16:29:52.941513Z",
     "shell.execute_reply.started": "2022-04-20T16:29:52.934911Z"
    }
   },
   "outputs": [],
   "source": [
    "medication_features = ['metformin',\n",
    "       'repaglinide', 'nateglinide', 'chlorpropamide', 'glimepiride',\n",
    "       'acetohexamide', 'glipizide', 'glyburide', 'tolbutamide',\n",
    "       'pioglitazone', 'rosiglitazone', 'acarbose', 'miglitol', 'troglitazone',\n",
    "       'tolazamide', 'examide', 'citoglipton', 'insulin',\n",
    "       'glyburide-metformin', 'glipizide-metformin',\n",
    "       'glimepiride-pioglitazone', 'metformin-rosiglitazone',\n",
    "       'metformin-pioglitazone']\n",
    "\n",
    "cat_col = ['race', 'gender', 'age', 'weight', 'payer_code', 'medical_specialty', 'max_glu_serum', 'A1Cresult', 'change', 'diabetesMed']\n",
    "num_cols = ['time_in_hospital', 'num_lab_procedures',\n",
    "       'num_procedures', 'num_medications', 'number_outpatient',\n",
    "       'number_emergency', 'number_inpatient',\n",
    "       'number_diagnoses']\n",
    "target_col = ['readmitted_NO']"
   ]
  },
  {
   "cell_type": "code",
   "execution_count": 18,
   "metadata": {
    "execution": {
     "iopub.execute_input": "2022-04-20T16:38:32.712055Z",
     "iopub.status.busy": "2022-04-20T16:38:32.711767Z",
     "iopub.status.idle": "2022-04-20T16:38:32.727644Z",
     "shell.execute_reply": "2022-04-20T16:38:32.726663Z",
     "shell.execute_reply.started": "2022-04-20T16:38:32.712016Z"
    }
   },
   "outputs": [],
   "source": [
    "from copy import deepcopy\n",
    "def process_data(df, labelencoder=dict(), cat_cols = [], encode=True):\n",
    "    df = deepcopy(df)\n",
    "    df.replace(\"?\", 'NaN', inplace=True)\n",
    "    df.replace(np.nan, 'NaN', inplace=True)\n",
    "    df.medical_specialty = df.medical_specialty.str.replace(\"&\",'and')\n",
    "    df.medical_specialty = df.medical_specialty.str.replace(\"/\",'or')\n",
    "    df.diag_1 = df.diag_1.str.extract(r'(\\d+).')[0]\n",
    "    df.diag_2 = df.diag_2.str.extract(r'(\\d+).')[0]\n",
    "    df.diag_3 = df.diag_3.str.extract(r'(\\d+).')[0]\n",
    "    \n",
    "    def process_split_medical_specialty(dd):\n",
    "        col = 'medical_specialty'\n",
    "        arr = list()\n",
    "        for i in dd.medical_specialty.str.split('-'):\n",
    "            if type(i).__name__ == 'list':\n",
    "                if len(i) == 1:\n",
    "                    i = [\"NaN\"] + i\n",
    "                if len(i) > 2:\n",
    "                    i = [i[0]] + ['and'.join(i[1:])]\n",
    "            elif i == \"NaN\":\n",
    "                i = [\"NaN\", \"NaN\"]\n",
    "            arr.append(i)\n",
    "        \n",
    "        arr = np.array(arr)\n",
    "        dd['medical_field'] = arr[:, 0]\n",
    "        dd['medical_specialty'] = arr[:, 1]\n",
    "        return dd\n",
    "\n",
    "    df.max_glu_serum = df.max_glu_serum.replace(\"None\", \"NaN\")\n",
    "    df.A1Cresult = df.A1Cresult.replace(\"None\", \"NaN\")\n",
    "    df.age = df.age.str.extract(r'\\[(\\d+)-')[0]\n",
    "    df.weight = df.weight.str.extract(r'\\[(\\d+)-')[0]\n",
    "    df = process_split_medical_specialty(df)\n",
    "    cat_cols += ['medical_field', \"diag_1\", 'diag_2', 'diag_3', 'weight', 'age']\n",
    "    df.replace(np.nan, 'NaN', inplace=True)\n",
    "\n",
    "    if encode == True:\n",
    "        for col in cat_cols:\n",
    "            labelencoder[col] = LabelEncoder().fit(df[col])\n",
    "            df[col] = labelencoder[col].transform(df[col])\n",
    "    else:\n",
    "        for col in cat_cols:\n",
    "            try:\n",
    "                df[col] = labelencoder[col].transform(df[col])\n",
    "            except:\n",
    "                print(col)\n",
    "                df[col] = df[col].astype(str)\n",
    "    df = df.astype(float)\n",
    "    return df, labelencoder"
   ]
  },
  {
   "cell_type": "code",
   "execution_count": 19,
   "metadata": {
    "execution": {
     "iopub.execute_input": "2022-04-20T16:38:41.928955Z",
     "iopub.status.busy": "2022-04-20T16:38:41.928169Z",
     "iopub.status.idle": "2022-04-20T16:38:48.043995Z",
     "shell.execute_reply": "2022-04-20T16:38:48.043144Z",
     "shell.execute_reply.started": "2022-04-20T16:38:41.928876Z"
    }
   },
   "outputs": [],
   "source": [
    "X, y = data.drop(columns=[\"readmitted_NO\"]), data.readmitted_NO\n",
    "d = pd.concat([X, test], axis=0, sort=False, keys=['X', 'test'])\n",
    "processed_Xandtest, le = process_data(d, cat_cols=cat_col+medication_features, encode=True)\n"
   ]
  },
  {
   "cell_type": "code",
   "execution_count": 20,
   "metadata": {
    "execution": {
     "iopub.execute_input": "2022-04-20T16:38:52.166811Z",
     "iopub.status.busy": "2022-04-20T16:38:52.166074Z",
     "iopub.status.idle": "2022-04-20T16:38:52.178951Z",
     "shell.execute_reply": "2022-04-20T16:38:52.177764Z",
     "shell.execute_reply.started": "2022-04-20T16:38:52.166716Z"
    }
   },
   "outputs": [],
   "source": [
    "processed_X = processed_Xandtest.loc['X']\n",
    "processed_test = processed_Xandtest.loc['test']\n",
    "best_cols = ['num_lab_procedures', 'num_medications', 'number_diagnoses']\n"
   ]
  },
  {
   "cell_type": "code",
   "execution_count": 21,
   "metadata": {
    "execution": {
     "iopub.execute_input": "2022-04-20T16:39:00.176161Z",
     "iopub.status.busy": "2022-04-20T16:39:00.174945Z",
     "iopub.status.idle": "2022-04-20T16:39:00.186189Z",
     "shell.execute_reply": "2022-04-20T16:39:00.185336Z",
     "shell.execute_reply.started": "2022-04-20T16:39:00.176043Z"
    }
   },
   "outputs": [],
   "source": [
    "processed_X = processed_X[best_cols]\n",
    "processed_test = processed_test[best_cols]"
   ]
  },
  {
   "cell_type": "code",
   "execution_count": 22,
   "metadata": {
    "execution": {
     "iopub.execute_input": "2022-04-20T16:39:04.352905Z",
     "iopub.status.busy": "2022-04-20T16:39:04.352329Z",
     "iopub.status.idle": "2022-04-20T16:39:05.726077Z",
     "shell.execute_reply": "2022-04-20T16:39:05.725099Z",
     "shell.execute_reply.started": "2022-04-20T16:39:04.352849Z"
    }
   },
   "outputs": [],
   "source": [
    "from sklearn.cluster import KMeans\n",
    "\n",
    "clf = KMeans(n_clusters=2, algorithm='elkan')\n",
    "clf.fit(processed_X, y)\n",
    "pred = clf.predict(processed_test)"
   ]
  },
  {
   "cell_type": "code",
   "execution_count": 23,
   "metadata": {
    "execution": {
     "iopub.execute_input": "2022-04-20T16:39:19.917713Z",
     "iopub.status.busy": "2022-04-20T16:39:19.917360Z",
     "iopub.status.idle": "2022-04-20T16:39:19.924170Z",
     "shell.execute_reply": "2022-04-20T16:39:19.923437Z",
     "shell.execute_reply.started": "2022-04-20T16:39:19.917657Z"
    }
   },
   "outputs": [
    {
     "data": {
      "text/plain": [
       "((30530,), (30530, 47))"
      ]
     },
     "execution_count": 23,
     "metadata": {},
     "output_type": "execute_result"
    }
   ],
   "source": [
    "pred.shape, test.shape"
   ]
  },
  {
   "cell_type": "code",
   "execution_count": 26,
   "metadata": {
    "execution": {
     "iopub.execute_input": "2022-04-20T16:39:47.578139Z",
     "iopub.status.busy": "2022-04-20T16:39:47.577817Z",
     "iopub.status.idle": "2022-04-20T16:39:47.927651Z",
     "shell.execute_reply": "2022-04-20T16:39:47.926871Z",
     "shell.execute_reply.started": "2022-04-20T16:39:47.578088Z"
    }
   },
   "outputs": [],
   "source": [
    "test['target'] = pred\n",
    "test[['target']].to_csv(\"output.csv\", index=True)"
   ]
  },
  {
   "cell_type": "code",
   "execution_count": null,
   "metadata": {},
   "outputs": [],
   "source": []
  }
 ],
 "metadata": {
  "kernelspec": {
   "display_name": "Python 3 (ipykernel)",
   "language": "python",
   "name": "python3"
  },
  "language_info": {
   "codemirror_mode": {
    "name": "ipython",
    "version": 3
   },
   "file_extension": ".py",
   "mimetype": "text/x-python",
   "name": "python",
   "nbconvert_exporter": "python",
   "pygments_lexer": "ipython3",
   "version": "3.9.7"
  }
 },
 "nbformat": 4,
 "nbformat_minor": 4
}
